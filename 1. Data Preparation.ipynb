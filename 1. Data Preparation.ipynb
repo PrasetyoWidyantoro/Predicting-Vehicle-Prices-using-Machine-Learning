{
 "cells": [
  {
   "cell_type": "markdown",
   "id": "f1f836f4",
   "metadata": {},
   "source": [
    "# Data Preparation"
   ]
  },
  {
   "cell_type": "markdown",
   "id": "90d86dfe",
   "metadata": {},
   "source": [
    "\"Predicting Vehicle Prices\" merupakan sebuah perangkat analisis data yang bertujuan untuk memprediksi harga kendaraan berdasarkan profil kendaraan yang telah tersedia.\n",
    "\n",
    "Kumpulan data ini berisi rincian kendaraan seperti merek, tahun produksi, jarak tempuh, jenis bahan bakar, tipe seller, transmisi, jumlah kepemilikan mobil sebelumnya. Variabel target dalam kasus ini adalah harga kendaraan, yang merupakan variabel numerik yang mencerminkan nilai kendaraan tersebut.\n",
    "\n",
    "Variabel-variabel fitur ini akan diproses dan digunakan untuk membangun model machine learning regresi. Model ini akan digunakan untuk memprediksi harga kendaraan berdasarkan karakteristik yang dimiliki oleh setiap kendaraan dalam dataset.\n",
    "\n",
    "Dalam hal ini, kita akan berfokus pada pengukuran metrik bisnis yang sesuai dengan permasalahan ini. Salah satu metrik yang relevan adalah \"Root Mean Squared Error (RMSE)\" yang mengukur seberapa akurat model dalam memprediksi harga kendaraan. Selain itu, kita juga dapat menggunakan metrik bisnis lain seperti \"Mean Absolute Error (MAE)\" untuk memberikan gambaran yang lebih lengkap tentang seberapa baik model ini dalam memprediksi harga kendaraan.\n",
    "\n",
    "Dengan menggunakan metrik bisnis ini, kita dapat mengukur seberapa baik model ini dalam melakukan prediksi harga kendaraan, yang dapat sangat bermanfaat dalam industri penjualan kendaraan seperti otomotif. Semakin rendah nilai RMSE atau MAE, semakin baik model ini dalam memprediksi harga kendaraan, yang dapat membantu perusahaan atau individu yang terlibat dalam penjualan kendaraan untuk membuat keputusan yang lebih baik."
   ]
  },
  {
   "cell_type": "markdown",
   "id": "0077f0a3",
   "metadata": {},
   "source": [
    "# Importasi Library"
   ]
  },
  {
   "cell_type": "markdown",
   "id": "4ebe4d88",
   "metadata": {},
   "source": [
    "Melakukan importasi library yang dibutuhkan saat proses data preparation"
   ]
  },
  {
   "cell_type": "code",
   "execution_count": 59,
   "id": "7a22822e",
   "metadata": {},
   "outputs": [],
   "source": [
    "#Import library untuk data preparation dan visualization\n",
    "import numpy as np\n",
    "import pandas as pd\n",
    "import matplotlib.pyplot as plt\n",
    "import seaborn as sns\n",
    "\n",
    "# import warnings for ignore the warnings\n",
    "import warnings \n",
    "warnings.filterwarnings(\"ignore\")\n",
    "\n",
    "# import pickle and json file for columns and model file\n",
    "import pickle\n",
    "import json\n",
    "import joblib\n",
    "import copy\n",
    "\n",
    "# Import train test split untuk splitting data\n",
    "from sklearn.model_selection import train_test_split\n",
    "import yaml\n",
    "import src.util as util\n",
    "from tqdm import tqdm\n",
    "import os"
   ]
  },
  {
   "cell_type": "code",
   "execution_count": 60,
   "id": "9c8ffb83-5d33-4b40-8da7-c75c08fcddca",
   "metadata": {},
   "outputs": [
    {
     "data": {
      "text/plain": [
       "'C:\\\\Users\\\\hp\\\\Portofolio Data Science\\\\4 - Vehicle Price Prediction'"
      ]
     },
     "execution_count": 60,
     "metadata": {},
     "output_type": "execute_result"
    }
   ],
   "source": [
    "os.getcwd()"
   ]
  },
  {
   "cell_type": "code",
   "execution_count": 61,
   "id": "6ce8ea28-ce1e-4120-bec3-49b332086b3b",
   "metadata": {},
   "outputs": [],
   "source": [
    "params_dir = \"config/config.yaml\""
   ]
  },
  {
   "cell_type": "code",
   "execution_count": 62,
   "id": "deed36ff-5f5c-407c-80cb-83f0e94d5756",
   "metadata": {},
   "outputs": [],
   "source": [
    "def load_params(param_dir):\n",
    "    with open(param_dir, 'r') as file:\n",
    "        params = yaml.safe_load(file)\n",
    "        \n",
    "    return params"
   ]
  },
  {
   "cell_type": "code",
   "execution_count": 63,
   "id": "ba4a1241-c1b7-4d5a-86f8-494dfc64f7ea",
   "metadata": {},
   "outputs": [],
   "source": [
    "params = load_params(params_dir)"
   ]
  },
  {
   "cell_type": "code",
   "execution_count": 64,
   "id": "00024443-cc40-47f2-8496-a6698377d44d",
   "metadata": {},
   "outputs": [
    {
     "data": {
      "text/plain": [
       "{'raw_dataset_dir': 'dataset/1 - raw data/',\n",
       " 'train_set_path': ['dataset/2 - processed/X_train.pkl',\n",
       "  'dataset/2 - processed/y_train.pkl'],\n",
       " 'valid_set_path': ['dataset/2 - processed/X_valid.pkl',\n",
       "  'dataset/2 - processed/y_valid.pkl'],\n",
       " 'test_set_path': ['dataset/2 - processed/X_test.pkl',\n",
       "  'dataset/2 - processed/y_test.pkl'],\n",
       " 'robust_scaler_train': ['dataset/3 - final/X_train_robust.pkl',\n",
       "  'dataset/3 - final/y_train.pkl'],\n",
       " 'robust_scaler_valid': ['dataset/3 - final/X_valid_robust.pkl',\n",
       "  'dataset/3 - final/y_valid.pkl'],\n",
       " 'robust_scaler_test': ['dataset/3 - final/X_test_robust.pkl',\n",
       "  'dataset/3 - final/y_test.pkl'],\n",
       " 'production_model_path': 'model/5 - Model Final',\n",
       " 'model_robust_scaler': 'model/5 - Model Final/robust_scaler.pkl',\n",
       " 'robust_scaler': 'model/5 - Model Final/',\n",
       " 'model_final': 'model/5 - Model Final/xgboost_cv_robust.pkl',\n",
       " 'print_debug': True,\n",
       " 'int64_columns': ['Year', 'Kms_Driven', 'Owner'],\n",
       " 'float64_columns': ['Present_Price', 'Selling_Price'],\n",
       " 'object_columns': ['Fuel_Type', 'Seller_Type', 'Transmission'],\n",
       " 'label': 'Selling_Price',\n",
       " 'predictors': ['Year',\n",
       "  'Kms_Driven',\n",
       "  'Owner',\n",
       "  'Present_Price',\n",
       "  'Fuel_Type',\n",
       "  'Seller_Type',\n",
       "  'Transmission'],\n",
       " 'range_Year': [2003, 2018],\n",
       " 'range_Kms_Driven': [500, 500000],\n",
       " 'range_Owner': [0, 1, 3],\n",
       " 'range_Present_Price': [0.32, 100],\n",
       " 'range_Fuel_Type': ['Petrol', 'Diesel', 'CNG'],\n",
       " 'range_Seller_Type': ['Dealer', 'Individual'],\n",
       " 'range_Transmission': ['Manual', 'Automatic'],\n",
       " 'range_Selling_Price': [0.1, 50.0]}"
      ]
     },
     "execution_count": 64,
     "metadata": {},
     "output_type": "execute_result"
    }
   ],
   "source": [
    "params"
   ]
  },
  {
   "cell_type": "code",
   "execution_count": 65,
   "id": "f9a31d3a-7a42-4c03-898c-6f5a582c4171",
   "metadata": {},
   "outputs": [],
   "source": [
    "config_data = util.load_config()"
   ]
  },
  {
   "cell_type": "markdown",
   "id": "30d8fade",
   "metadata": {},
   "source": [
    "# Read Data - Data Collection"
   ]
  },
  {
   "cell_type": "markdown",
   "id": "a947cd08",
   "metadata": {},
   "source": [
    "Predicting Vehicle Prices saat ini menggunakan data yang disadur dari kaggle dengan laman :\n",
    " * https://www.kaggle.com/code/anandtalware/vehicle-sale-price-prediction-9-sept-2023/input?select=car+data.csv"
   ]
  },
  {
   "cell_type": "code",
   "execution_count": 66,
   "id": "5f9a983d-b326-4ab3-ace3-72f9826d182d",
   "metadata": {},
   "outputs": [],
   "source": [
    "def read_raw_data(config: dict) -> pd.DataFrame:\n",
    "    # Create variable to store raw dataset\n",
    "    raw_dataset = pd.DataFrame()\n",
    "\n",
    "    # Raw dataset dir\n",
    "    raw_dataset_dir = config[\"raw_dataset_dir\"]\n",
    "\n",
    "    # Look and load add CSV files\n",
    "    for i in tqdm(os.listdir(raw_dataset_dir)):\n",
    "        if i.endswith(\".csv\"):  # Hanya membaca file CSV\n",
    "            raw_dataset = pd.concat([pd.read_csv(os.path.join(raw_dataset_dir, i)), raw_dataset])\n",
    "            \n",
    "    # Return raw dataset\n",
    "    return raw_dataset"
   ]
  },
  {
   "cell_type": "code",
   "execution_count": 67,
   "id": "bae6bbdc",
   "metadata": {},
   "outputs": [
    {
     "name": "stderr",
     "output_type": "stream",
     "text": [
      "100%|███████████████████████████████████████████████████████████████████████████████████| 2/2 [00:00<00:00, 208.47it/s]\n"
     ]
    },
    {
     "data": {
      "text/html": [
       "<div>\n",
       "<style scoped>\n",
       "    .dataframe tbody tr th:only-of-type {\n",
       "        vertical-align: middle;\n",
       "    }\n",
       "\n",
       "    .dataframe tbody tr th {\n",
       "        vertical-align: top;\n",
       "    }\n",
       "\n",
       "    .dataframe thead th {\n",
       "        text-align: right;\n",
       "    }\n",
       "</style>\n",
       "<table border=\"1\" class=\"dataframe\">\n",
       "  <thead>\n",
       "    <tr style=\"text-align: right;\">\n",
       "      <th></th>\n",
       "      <th>Car_Name</th>\n",
       "      <th>Year</th>\n",
       "      <th>Selling_Price</th>\n",
       "      <th>Present_Price</th>\n",
       "      <th>Kms_Driven</th>\n",
       "      <th>Fuel_Type</th>\n",
       "      <th>Seller_Type</th>\n",
       "      <th>Transmission</th>\n",
       "      <th>Owner</th>\n",
       "    </tr>\n",
       "  </thead>\n",
       "  <tbody>\n",
       "    <tr>\n",
       "      <th>0</th>\n",
       "      <td>ritz</td>\n",
       "      <td>2014</td>\n",
       "      <td>3.35</td>\n",
       "      <td>5.59</td>\n",
       "      <td>27000</td>\n",
       "      <td>Petrol</td>\n",
       "      <td>Dealer</td>\n",
       "      <td>Manual</td>\n",
       "      <td>0</td>\n",
       "    </tr>\n",
       "    <tr>\n",
       "      <th>1</th>\n",
       "      <td>sx4</td>\n",
       "      <td>2013</td>\n",
       "      <td>4.75</td>\n",
       "      <td>9.54</td>\n",
       "      <td>43000</td>\n",
       "      <td>Diesel</td>\n",
       "      <td>Dealer</td>\n",
       "      <td>Manual</td>\n",
       "      <td>0</td>\n",
       "    </tr>\n",
       "    <tr>\n",
       "      <th>2</th>\n",
       "      <td>ciaz</td>\n",
       "      <td>2017</td>\n",
       "      <td>7.25</td>\n",
       "      <td>9.85</td>\n",
       "      <td>6900</td>\n",
       "      <td>Petrol</td>\n",
       "      <td>Dealer</td>\n",
       "      <td>Manual</td>\n",
       "      <td>0</td>\n",
       "    </tr>\n",
       "    <tr>\n",
       "      <th>3</th>\n",
       "      <td>wagon r</td>\n",
       "      <td>2011</td>\n",
       "      <td>2.85</td>\n",
       "      <td>4.15</td>\n",
       "      <td>5200</td>\n",
       "      <td>Petrol</td>\n",
       "      <td>Dealer</td>\n",
       "      <td>Manual</td>\n",
       "      <td>0</td>\n",
       "    </tr>\n",
       "    <tr>\n",
       "      <th>4</th>\n",
       "      <td>swift</td>\n",
       "      <td>2014</td>\n",
       "      <td>4.60</td>\n",
       "      <td>6.87</td>\n",
       "      <td>42450</td>\n",
       "      <td>Diesel</td>\n",
       "      <td>Dealer</td>\n",
       "      <td>Manual</td>\n",
       "      <td>0</td>\n",
       "    </tr>\n",
       "  </tbody>\n",
       "</table>\n",
       "</div>"
      ],
      "text/plain": [
       "  Car_Name  Year  Selling_Price  Present_Price  Kms_Driven Fuel_Type  \\\n",
       "0     ritz  2014           3.35           5.59       27000    Petrol   \n",
       "1      sx4  2013           4.75           9.54       43000    Diesel   \n",
       "2     ciaz  2017           7.25           9.85        6900    Petrol   \n",
       "3  wagon r  2011           2.85           4.15        5200    Petrol   \n",
       "4    swift  2014           4.60           6.87       42450    Diesel   \n",
       "\n",
       "  Seller_Type Transmission  Owner  \n",
       "0      Dealer       Manual      0  \n",
       "1      Dealer       Manual      0  \n",
       "2      Dealer       Manual      0  \n",
       "3      Dealer       Manual      0  \n",
       "4      Dealer       Manual      0  "
      ]
     },
     "execution_count": 67,
     "metadata": {},
     "output_type": "execute_result"
    }
   ],
   "source": [
    "#Read Vehicle Prices dengan pandas\n",
    "vehicles_data = read_raw_data(config_data)\n",
    "vehicles_data.head()"
   ]
  },
  {
   "cell_type": "code",
   "execution_count": 68,
   "id": "fd0e8d01-b498-4ce0-8349-45f9f6eaacd5",
   "metadata": {},
   "outputs": [
    {
     "name": "stdout",
     "output_type": "stream",
     "text": [
      "<class 'pandas.core.frame.DataFrame'>\n",
      "RangeIndex: 301 entries, 0 to 300\n",
      "Data columns (total 9 columns):\n",
      " #   Column         Non-Null Count  Dtype  \n",
      "---  ------         --------------  -----  \n",
      " 0   Car_Name       301 non-null    object \n",
      " 1   Year           301 non-null    int64  \n",
      " 2   Selling_Price  301 non-null    float64\n",
      " 3   Present_Price  301 non-null    float64\n",
      " 4   Kms_Driven     301 non-null    int64  \n",
      " 5   Fuel_Type      301 non-null    object \n",
      " 6   Seller_Type    301 non-null    object \n",
      " 7   Transmission   301 non-null    object \n",
      " 8   Owner          301 non-null    int64  \n",
      "dtypes: float64(2), int64(3), object(4)\n",
      "memory usage: 21.3+ KB\n"
     ]
    }
   ],
   "source": [
    "vehicles_data.info()"
   ]
  },
  {
   "cell_type": "code",
   "execution_count": 69,
   "id": "f951e30a-3147-4ebe-9984-2dd203645f5b",
   "metadata": {},
   "outputs": [
    {
     "name": "stdout",
     "output_type": "stream",
     "text": [
      "Unique values for column Car_Name:\n",
      "['ritz' 'sx4' 'ciaz' 'wagon r' 'swift' 'vitara brezza' 's cross'\n",
      " 'alto 800' 'ertiga' 'dzire' 'alto k10' 'ignis' '800' 'baleno' 'omni'\n",
      " 'fortuner' 'innova' 'corolla altis' 'etios cross' 'etios g' 'etios liva'\n",
      " 'corolla' 'etios gd' 'camry' 'land cruiser' 'Royal Enfield Thunder 500'\n",
      " 'UM Renegade Mojave' 'KTM RC200' 'Bajaj Dominar 400'\n",
      " 'Royal Enfield Classic 350' 'KTM RC390' 'Hyosung GT250R'\n",
      " 'Royal Enfield Thunder 350' 'KTM 390 Duke ' 'Mahindra Mojo XT300'\n",
      " 'Bajaj Pulsar RS200' 'Royal Enfield Bullet 350'\n",
      " 'Royal Enfield Classic 500' 'Bajaj Avenger 220' 'Bajaj Avenger 150'\n",
      " 'Honda CB Hornet 160R' 'Yamaha FZ S V 2.0' 'Yamaha FZ 16'\n",
      " 'TVS Apache RTR 160' 'Bajaj Pulsar 150' 'Honda CBR 150' 'Hero Extreme'\n",
      " 'Bajaj Avenger 220 dtsi' 'Bajaj Avenger 150 street' 'Yamaha FZ  v 2.0'\n",
      " 'Bajaj Pulsar  NS 200' 'Bajaj Pulsar 220 F' 'TVS Apache RTR 180'\n",
      " 'Hero Passion X pro' 'Bajaj Pulsar NS 200' 'Yamaha Fazer '\n",
      " 'Honda Activa 4G' 'TVS Sport ' 'Honda Dream Yuga '\n",
      " 'Bajaj Avenger Street 220' 'Hero Splender iSmart' 'Activa 3g'\n",
      " 'Hero Passion Pro' 'Honda CB Trigger' 'Yamaha FZ S '\n",
      " 'Bajaj Pulsar 135 LS' 'Activa 4g' 'Honda CB Unicorn'\n",
      " 'Hero Honda CBZ extreme' 'Honda Karizma' 'Honda Activa 125' 'TVS Jupyter'\n",
      " 'Hero Honda Passion Pro' 'Hero Splender Plus' 'Honda CB Shine'\n",
      " 'Bajaj Discover 100' 'Suzuki Access 125' 'TVS Wego' 'Honda CB twister'\n",
      " 'Hero Glamour' 'Hero Super Splendor' 'Bajaj Discover 125' 'Hero Hunk'\n",
      " 'Hero  Ignitor Disc' 'Hero  CBZ Xtreme' 'Bajaj  ct 100' 'i20' 'grand i10'\n",
      " 'i10' 'eon' 'xcent' 'elantra' 'creta' 'verna' 'city' 'brio' 'amaze'\n",
      " 'jazz']\n",
      "\n",
      "\n",
      "Unique values for column Fuel_Type:\n",
      "['Petrol' 'Diesel' 'CNG']\n",
      "\n",
      "\n",
      "Unique values for column Seller_Type:\n",
      "['Dealer' 'Individual']\n",
      "\n",
      "\n",
      "Unique values for column Transmission:\n",
      "['Manual' 'Automatic']\n",
      "\n",
      "\n"
     ]
    }
   ],
   "source": [
    "# melihat unique value pada kolom kategori\n",
    "\n",
    "# Menggunakan loop untuk melihat unique value pada masing-masing kolom\n",
    "for column in vehicles_data.columns:\n",
    "    if vehicles_data[column].dtype == 'object':\n",
    "        unique_values = vehicles_data[column].unique()\n",
    "        print(f\"Unique values for column {column}:\")\n",
    "        print(unique_values)\n",
    "        print('\\n')"
   ]
  },
  {
   "cell_type": "code",
   "execution_count": 70,
   "id": "ba08b63c-6aa1-49d7-9ccc-5ba0a6d2a253",
   "metadata": {},
   "outputs": [
    {
     "data": {
      "text/plain": [
       "array([0, 1, 3], dtype=int64)"
      ]
     },
     "execution_count": 70,
     "metadata": {},
     "output_type": "execute_result"
    }
   ],
   "source": [
    "vehicles_data[\"Owner\"].unique()"
   ]
  },
  {
   "cell_type": "code",
   "execution_count": 71,
   "id": "c04d6dde-f734-45f2-8888-f82396f1f7c7",
   "metadata": {},
   "outputs": [
    {
     "data": {
      "text/plain": [
       "[2003,\n",
       " 2004,\n",
       " 2005,\n",
       " 2006,\n",
       " 2007,\n",
       " 2008,\n",
       " 2009,\n",
       " 2010,\n",
       " 2011,\n",
       " 2012,\n",
       " 2013,\n",
       " 2014,\n",
       " 2015,\n",
       " 2016,\n",
       " 2017,\n",
       " 2018]"
      ]
     },
     "execution_count": 71,
     "metadata": {},
     "output_type": "execute_result"
    }
   ],
   "source": [
    "sorted(vehicles_data[\"Year\"].unique())"
   ]
  },
  {
   "cell_type": "code",
   "execution_count": 72,
   "id": "2a61aaa8",
   "metadata": {},
   "outputs": [
    {
     "data": {
      "text/plain": [
       "98"
      ]
     },
     "execution_count": 72,
     "metadata": {},
     "output_type": "execute_result"
    }
   ],
   "source": [
    "vehicles_data[\"Car_Name\"].nunique()"
   ]
  },
  {
   "cell_type": "code",
   "execution_count": 73,
   "id": "d104c72d-8015-4dec-8bc9-f70b13f37c65",
   "metadata": {},
   "outputs": [
    {
     "name": "stdout",
     "output_type": "stream",
     "text": [
      "0.1\n",
      "35.0\n"
     ]
    }
   ],
   "source": [
    "print(vehicles_data[\"Selling_Price\"].min())\n",
    "print(vehicles_data[\"Selling_Price\"].max())"
   ]
  },
  {
   "cell_type": "code",
   "execution_count": 74,
   "id": "bc5c750c-586b-4662-b093-e13e69703576",
   "metadata": {},
   "outputs": [
    {
     "name": "stdout",
     "output_type": "stream",
     "text": [
      "0.32\n",
      "92.6\n"
     ]
    }
   ],
   "source": [
    "print(vehicles_data[\"Present_Price\"].min())\n",
    "print(vehicles_data[\"Present_Price\"].max())"
   ]
  },
  {
   "cell_type": "code",
   "execution_count": 75,
   "id": "49348541-d865-4661-bdcd-e2069f514493",
   "metadata": {},
   "outputs": [
    {
     "name": "stdout",
     "output_type": "stream",
     "text": [
      "500\n",
      "500000\n"
     ]
    }
   ],
   "source": [
    "print(vehicles_data[\"Kms_Driven\"].min())\n",
    "print(vehicles_data[\"Kms_Driven\"].max())"
   ]
  },
  {
   "cell_type": "markdown",
   "id": "4cdf2a3b-e9d7-4b70-be5a-ee64645cbf27",
   "metadata": {},
   "source": [
    "Menghapus kolom yang tidak diperlukan dalam proses analisa"
   ]
  },
  {
   "cell_type": "code",
   "execution_count": 76,
   "id": "8a644661-416f-4343-bb83-a47d022143dd",
   "metadata": {},
   "outputs": [],
   "source": [
    "vehicles_data = vehicles_data.drop('Car_Name', axis=1)  # axis=1 berarti menghapus kolom, axis=0 akan menghapus baris"
   ]
  },
  {
   "cell_type": "markdown",
   "id": "963590d0",
   "metadata": {},
   "source": [
    "Sanity check"
   ]
  },
  {
   "cell_type": "code",
   "execution_count": 77,
   "id": "e53cb5df-893b-4bf5-8043-db194cc07d10",
   "metadata": {},
   "outputs": [
    {
     "data": {
      "text/html": [
       "<div>\n",
       "<style scoped>\n",
       "    .dataframe tbody tr th:only-of-type {\n",
       "        vertical-align: middle;\n",
       "    }\n",
       "\n",
       "    .dataframe tbody tr th {\n",
       "        vertical-align: top;\n",
       "    }\n",
       "\n",
       "    .dataframe thead th {\n",
       "        text-align: right;\n",
       "    }\n",
       "</style>\n",
       "<table border=\"1\" class=\"dataframe\">\n",
       "  <thead>\n",
       "    <tr style=\"text-align: right;\">\n",
       "      <th></th>\n",
       "      <th>Year</th>\n",
       "      <th>Selling_Price</th>\n",
       "      <th>Present_Price</th>\n",
       "      <th>Kms_Driven</th>\n",
       "      <th>Fuel_Type</th>\n",
       "      <th>Seller_Type</th>\n",
       "      <th>Transmission</th>\n",
       "      <th>Owner</th>\n",
       "    </tr>\n",
       "  </thead>\n",
       "  <tbody>\n",
       "    <tr>\n",
       "      <th>0</th>\n",
       "      <td>2014</td>\n",
       "      <td>3.35</td>\n",
       "      <td>5.59</td>\n",
       "      <td>27000</td>\n",
       "      <td>Petrol</td>\n",
       "      <td>Dealer</td>\n",
       "      <td>Manual</td>\n",
       "      <td>0</td>\n",
       "    </tr>\n",
       "    <tr>\n",
       "      <th>1</th>\n",
       "      <td>2013</td>\n",
       "      <td>4.75</td>\n",
       "      <td>9.54</td>\n",
       "      <td>43000</td>\n",
       "      <td>Diesel</td>\n",
       "      <td>Dealer</td>\n",
       "      <td>Manual</td>\n",
       "      <td>0</td>\n",
       "    </tr>\n",
       "    <tr>\n",
       "      <th>2</th>\n",
       "      <td>2017</td>\n",
       "      <td>7.25</td>\n",
       "      <td>9.85</td>\n",
       "      <td>6900</td>\n",
       "      <td>Petrol</td>\n",
       "      <td>Dealer</td>\n",
       "      <td>Manual</td>\n",
       "      <td>0</td>\n",
       "    </tr>\n",
       "    <tr>\n",
       "      <th>3</th>\n",
       "      <td>2011</td>\n",
       "      <td>2.85</td>\n",
       "      <td>4.15</td>\n",
       "      <td>5200</td>\n",
       "      <td>Petrol</td>\n",
       "      <td>Dealer</td>\n",
       "      <td>Manual</td>\n",
       "      <td>0</td>\n",
       "    </tr>\n",
       "    <tr>\n",
       "      <th>4</th>\n",
       "      <td>2014</td>\n",
       "      <td>4.60</td>\n",
       "      <td>6.87</td>\n",
       "      <td>42450</td>\n",
       "      <td>Diesel</td>\n",
       "      <td>Dealer</td>\n",
       "      <td>Manual</td>\n",
       "      <td>0</td>\n",
       "    </tr>\n",
       "    <tr>\n",
       "      <th>...</th>\n",
       "      <td>...</td>\n",
       "      <td>...</td>\n",
       "      <td>...</td>\n",
       "      <td>...</td>\n",
       "      <td>...</td>\n",
       "      <td>...</td>\n",
       "      <td>...</td>\n",
       "      <td>...</td>\n",
       "    </tr>\n",
       "    <tr>\n",
       "      <th>296</th>\n",
       "      <td>2016</td>\n",
       "      <td>9.50</td>\n",
       "      <td>11.60</td>\n",
       "      <td>33988</td>\n",
       "      <td>Diesel</td>\n",
       "      <td>Dealer</td>\n",
       "      <td>Manual</td>\n",
       "      <td>0</td>\n",
       "    </tr>\n",
       "    <tr>\n",
       "      <th>297</th>\n",
       "      <td>2015</td>\n",
       "      <td>4.00</td>\n",
       "      <td>5.90</td>\n",
       "      <td>60000</td>\n",
       "      <td>Petrol</td>\n",
       "      <td>Dealer</td>\n",
       "      <td>Manual</td>\n",
       "      <td>0</td>\n",
       "    </tr>\n",
       "    <tr>\n",
       "      <th>298</th>\n",
       "      <td>2009</td>\n",
       "      <td>3.35</td>\n",
       "      <td>11.00</td>\n",
       "      <td>87934</td>\n",
       "      <td>Petrol</td>\n",
       "      <td>Dealer</td>\n",
       "      <td>Manual</td>\n",
       "      <td>0</td>\n",
       "    </tr>\n",
       "    <tr>\n",
       "      <th>299</th>\n",
       "      <td>2017</td>\n",
       "      <td>11.50</td>\n",
       "      <td>12.50</td>\n",
       "      <td>9000</td>\n",
       "      <td>Diesel</td>\n",
       "      <td>Dealer</td>\n",
       "      <td>Manual</td>\n",
       "      <td>0</td>\n",
       "    </tr>\n",
       "    <tr>\n",
       "      <th>300</th>\n",
       "      <td>2016</td>\n",
       "      <td>5.30</td>\n",
       "      <td>5.90</td>\n",
       "      <td>5464</td>\n",
       "      <td>Petrol</td>\n",
       "      <td>Dealer</td>\n",
       "      <td>Manual</td>\n",
       "      <td>0</td>\n",
       "    </tr>\n",
       "  </tbody>\n",
       "</table>\n",
       "<p>301 rows × 8 columns</p>\n",
       "</div>"
      ],
      "text/plain": [
       "     Year  Selling_Price  Present_Price  Kms_Driven Fuel_Type Seller_Type  \\\n",
       "0    2014           3.35           5.59       27000    Petrol      Dealer   \n",
       "1    2013           4.75           9.54       43000    Diesel      Dealer   \n",
       "2    2017           7.25           9.85        6900    Petrol      Dealer   \n",
       "3    2011           2.85           4.15        5200    Petrol      Dealer   \n",
       "4    2014           4.60           6.87       42450    Diesel      Dealer   \n",
       "..    ...            ...            ...         ...       ...         ...   \n",
       "296  2016           9.50          11.60       33988    Diesel      Dealer   \n",
       "297  2015           4.00           5.90       60000    Petrol      Dealer   \n",
       "298  2009           3.35          11.00       87934    Petrol      Dealer   \n",
       "299  2017          11.50          12.50        9000    Diesel      Dealer   \n",
       "300  2016           5.30           5.90        5464    Petrol      Dealer   \n",
       "\n",
       "    Transmission  Owner  \n",
       "0         Manual      0  \n",
       "1         Manual      0  \n",
       "2         Manual      0  \n",
       "3         Manual      0  \n",
       "4         Manual      0  \n",
       "..           ...    ...  \n",
       "296       Manual      0  \n",
       "297       Manual      0  \n",
       "298       Manual      0  \n",
       "299       Manual      0  \n",
       "300       Manual      0  \n",
       "\n",
       "[301 rows x 8 columns]"
      ]
     },
     "execution_count": 77,
     "metadata": {},
     "output_type": "execute_result"
    }
   ],
   "source": [
    "vehicles_data"
   ]
  },
  {
   "cell_type": "markdown",
   "id": "2854cf1d",
   "metadata": {},
   "source": [
    "# Data Definition"
   ]
  },
  {
   "cell_type": "markdown",
   "id": "cad43e68",
   "metadata": {},
   "source": [
    "Data yang digunakan merupakan data yang menggambarkan karakteristik vehicle berdasarkan harga jualnya. adapun fitur karakteristik vehicle yang digunakan antara lain\n",
    "\n",
    "Data berisi 301 baris dan 8 kolom yaitu :\n",
    "\n",
    "* Year : Tahun saat mobil tersebut dibeli\n",
    "* Selling_Price : Harga saat mobil tersebut dijual\n",
    "* Present_Price : harga mobil bekas showroom saat ini\n",
    "* Kms_driven : Jarak tempuh yang sudah dilalui mobil tersebut\n",
    "* Fuel_Type : Jenis bahan bakar mobil \n",
    "* Seller_Type : Tipe Penjual, perorangan atau dealer\n",
    "* Transmission : Jenis Transmisi oper gigi mobil, manual atau otomatis\n",
    "* Owner : Jumlah pemilik mobil sebelumnya."
   ]
  },
  {
   "cell_type": "raw",
   "id": "f0d9b3ee",
   "metadata": {},
   "source": [
    "Year       :\n",
    "    [int64]\n",
    "    [2003 - 2018]\n",
    "    Tahun saat mobil tersebut dibeli\n",
    "\n",
    "Selling_Price          :\n",
    "    [float64]\n",
    "    [0.1 - 35.0]\n",
    "    Harga saat mobil tersebut dijual\n",
    "    \n",
    "Present_Price          :\n",
    "    [float64]\n",
    "    [0.32 - 92.6]\n",
    "    Harga mobil bekas showroom saat ini\n",
    "\n",
    "Kms_driven            :\n",
    "    [int64]\n",
    "    [500 - 500000]\n",
    "    Jarak tempuh yang sudah dilalui mobil tersebut\n",
    "    \n",
    "Fuel_Type               :\n",
    "    [object]\n",
    "    ['Petrol' 'Diesel' 'CNG']\n",
    "    Jenis bahan bakar mobil\n",
    "\n",
    "Seller_Type         :\n",
    "    [object]\n",
    "    ['Dealer' 'Individual']\n",
    "    Tipe Penjual, perorangan atau dealer\n",
    "\n",
    "Transmission            :\n",
    "    [object]\n",
    "    ['Manual' 'Automatic']\n",
    "    Jenis Transmisi oper gigi mobil, manual atau otomatis\n",
    "\n",
    "owner      :\n",
    "    [int64]\n",
    "    [0, 1, 3]\n",
    "    Jumlah pemilik mobil sebelumnya."
   ]
  },
  {
   "cell_type": "markdown",
   "id": "0fbc79a1",
   "metadata": {},
   "source": [
    "# Data Validation"
   ]
  },
  {
   "cell_type": "markdown",
   "id": "0c38c247",
   "metadata": {},
   "source": [
    "### Data Type"
   ]
  },
  {
   "cell_type": "markdown",
   "id": "a538f159",
   "metadata": {},
   "source": [
    "Mengecek tipe data apakah sudah sesuai dengan fitur dalam proses analisa"
   ]
  },
  {
   "cell_type": "code",
   "execution_count": 78,
   "id": "61359e06",
   "metadata": {},
   "outputs": [
    {
     "name": "stdout",
     "output_type": "stream",
     "text": [
      "<class 'pandas.core.frame.DataFrame'>\n",
      "RangeIndex: 301 entries, 0 to 300\n",
      "Data columns (total 8 columns):\n",
      " #   Column         Non-Null Count  Dtype  \n",
      "---  ------         --------------  -----  \n",
      " 0   Year           301 non-null    int64  \n",
      " 1   Selling_Price  301 non-null    float64\n",
      " 2   Present_Price  301 non-null    float64\n",
      " 3   Kms_Driven     301 non-null    int64  \n",
      " 4   Fuel_Type      301 non-null    object \n",
      " 5   Seller_Type    301 non-null    object \n",
      " 6   Transmission   301 non-null    object \n",
      " 7   Owner          301 non-null    int64  \n",
      "dtypes: float64(2), int64(3), object(3)\n",
      "memory usage: 18.9+ KB\n"
     ]
    }
   ],
   "source": [
    "# Cek tipe data dengan menggunakan info()\n",
    "vehicles_data.info()"
   ]
  },
  {
   "cell_type": "markdown",
   "id": "9cd17979",
   "metadata": {},
   "source": [
    "### Check Nilai Null"
   ]
  },
  {
   "cell_type": "markdown",
   "id": "594a961a",
   "metadata": {},
   "source": [
    "Mengecek apakah data terdapat nilai null pada setiap kolom"
   ]
  },
  {
   "cell_type": "code",
   "execution_count": 79,
   "id": "b5c4f5a7",
   "metadata": {},
   "outputs": [
    {
     "data": {
      "text/plain": [
       "Year             0\n",
       "Selling_Price    0\n",
       "Present_Price    0\n",
       "Kms_Driven       0\n",
       "Fuel_Type        0\n",
       "Seller_Type      0\n",
       "Transmission     0\n",
       "Owner            0\n",
       "dtype: int64"
      ]
     },
     "execution_count": 79,
     "metadata": {},
     "output_type": "execute_result"
    }
   ],
   "source": [
    "#Menghitung nilai null pada kolom\n",
    "vehicles_data.isnull().sum()"
   ]
  },
  {
   "cell_type": "markdown",
   "id": "abb72fac",
   "metadata": {},
   "source": [
    "### Melihat statistik deskriptif dan Range Data Numerikal"
   ]
  },
  {
   "cell_type": "markdown",
   "id": "dabce131",
   "metadata": {},
   "source": [
    "Cek statistika deskriptif"
   ]
  },
  {
   "cell_type": "code",
   "execution_count": 80,
   "id": "2d1137c7",
   "metadata": {},
   "outputs": [
    {
     "data": {
      "text/html": [
       "<div>\n",
       "<style scoped>\n",
       "    .dataframe tbody tr th:only-of-type {\n",
       "        vertical-align: middle;\n",
       "    }\n",
       "\n",
       "    .dataframe tbody tr th {\n",
       "        vertical-align: top;\n",
       "    }\n",
       "\n",
       "    .dataframe thead th {\n",
       "        text-align: right;\n",
       "    }\n",
       "</style>\n",
       "<table border=\"1\" class=\"dataframe\">\n",
       "  <thead>\n",
       "    <tr style=\"text-align: right;\">\n",
       "      <th></th>\n",
       "      <th>Year</th>\n",
       "      <th>Selling_Price</th>\n",
       "      <th>Present_Price</th>\n",
       "      <th>Kms_Driven</th>\n",
       "      <th>Owner</th>\n",
       "    </tr>\n",
       "  </thead>\n",
       "  <tbody>\n",
       "    <tr>\n",
       "      <th>count</th>\n",
       "      <td>301.000000</td>\n",
       "      <td>301.000000</td>\n",
       "      <td>301.000000</td>\n",
       "      <td>301.000000</td>\n",
       "      <td>301.000000</td>\n",
       "    </tr>\n",
       "    <tr>\n",
       "      <th>mean</th>\n",
       "      <td>2013.627907</td>\n",
       "      <td>4.661296</td>\n",
       "      <td>7.628472</td>\n",
       "      <td>36947.205980</td>\n",
       "      <td>0.043189</td>\n",
       "    </tr>\n",
       "    <tr>\n",
       "      <th>std</th>\n",
       "      <td>2.891554</td>\n",
       "      <td>5.082812</td>\n",
       "      <td>8.644115</td>\n",
       "      <td>38886.883882</td>\n",
       "      <td>0.247915</td>\n",
       "    </tr>\n",
       "    <tr>\n",
       "      <th>min</th>\n",
       "      <td>2003.000000</td>\n",
       "      <td>0.100000</td>\n",
       "      <td>0.320000</td>\n",
       "      <td>500.000000</td>\n",
       "      <td>0.000000</td>\n",
       "    </tr>\n",
       "    <tr>\n",
       "      <th>25%</th>\n",
       "      <td>2012.000000</td>\n",
       "      <td>0.900000</td>\n",
       "      <td>1.200000</td>\n",
       "      <td>15000.000000</td>\n",
       "      <td>0.000000</td>\n",
       "    </tr>\n",
       "    <tr>\n",
       "      <th>50%</th>\n",
       "      <td>2014.000000</td>\n",
       "      <td>3.600000</td>\n",
       "      <td>6.400000</td>\n",
       "      <td>32000.000000</td>\n",
       "      <td>0.000000</td>\n",
       "    </tr>\n",
       "    <tr>\n",
       "      <th>75%</th>\n",
       "      <td>2016.000000</td>\n",
       "      <td>6.000000</td>\n",
       "      <td>9.900000</td>\n",
       "      <td>48767.000000</td>\n",
       "      <td>0.000000</td>\n",
       "    </tr>\n",
       "    <tr>\n",
       "      <th>max</th>\n",
       "      <td>2018.000000</td>\n",
       "      <td>35.000000</td>\n",
       "      <td>92.600000</td>\n",
       "      <td>500000.000000</td>\n",
       "      <td>3.000000</td>\n",
       "    </tr>\n",
       "  </tbody>\n",
       "</table>\n",
       "</div>"
      ],
      "text/plain": [
       "              Year  Selling_Price  Present_Price     Kms_Driven       Owner\n",
       "count   301.000000     301.000000     301.000000     301.000000  301.000000\n",
       "mean   2013.627907       4.661296       7.628472   36947.205980    0.043189\n",
       "std       2.891554       5.082812       8.644115   38886.883882    0.247915\n",
       "min    2003.000000       0.100000       0.320000     500.000000    0.000000\n",
       "25%    2012.000000       0.900000       1.200000   15000.000000    0.000000\n",
       "50%    2014.000000       3.600000       6.400000   32000.000000    0.000000\n",
       "75%    2016.000000       6.000000       9.900000   48767.000000    0.000000\n",
       "max    2018.000000      35.000000      92.600000  500000.000000    3.000000"
      ]
     },
     "execution_count": 80,
     "metadata": {},
     "output_type": "execute_result"
    }
   ],
   "source": [
    "#Melihat statistika deskriptif dengan describe()\n",
    "vehicles_data.describe()"
   ]
  },
  {
   "cell_type": "markdown",
   "id": "5b81f517",
   "metadata": {},
   "source": [
    "### Melihat Dimensi Data"
   ]
  },
  {
   "cell_type": "code",
   "execution_count": 81,
   "id": "0b66b235",
   "metadata": {},
   "outputs": [
    {
     "data": {
      "text/plain": [
       "(301, 8)"
      ]
     },
     "execution_count": 81,
     "metadata": {},
     "output_type": "execute_result"
    }
   ],
   "source": [
    "vehicles_data.shape"
   ]
  },
  {
   "cell_type": "markdown",
   "id": "887a431c",
   "metadata": {},
   "source": [
    "# Data Splitting"
   ]
  },
  {
   "cell_type": "markdown",
   "id": "faa98f66",
   "metadata": {},
   "source": [
    "Melakukan spliting data untuk memisahkan set training, set validation dan set test yang terbagi atas variabel x dan y"
   ]
  },
  {
   "cell_type": "code",
   "execution_count": 84,
   "id": "6deade50",
   "metadata": {},
   "outputs": [],
   "source": [
    "# Pemisahan Variabel X dan Y\n",
    "X = vehicles_data.drop(columns = \"Selling_Price\")\n",
    "y = vehicles_data[\"Selling_Price\"]"
   ]
  },
  {
   "cell_type": "code",
   "execution_count": 85,
   "id": "a96df1d5",
   "metadata": {},
   "outputs": [],
   "source": [
    "#Split Data 80% training 20% testing\n",
    "X_train, X_test, y_train, y_test = train_test_split(X, y,\n",
    "                                                    test_size = 0.25,\n",
    "                                                    random_state = 123)"
   ]
  },
  {
   "cell_type": "code",
   "execution_count": 86,
   "id": "e68d5ec9",
   "metadata": {},
   "outputs": [],
   "source": [
    "# Split data train menjadi train dan validation set\n",
    "X_test, X_valid, y_test, y_valid = train_test_split(X_test, y_test, \n",
    "                                                    test_size=0.4, \n",
    "                                                    random_state=123)"
   ]
  },
  {
   "cell_type": "code",
   "execution_count": 87,
   "id": "0c2cd6a0",
   "metadata": {},
   "outputs": [
    {
     "data": {
      "text/html": [
       "<div>\n",
       "<style scoped>\n",
       "    .dataframe tbody tr th:only-of-type {\n",
       "        vertical-align: middle;\n",
       "    }\n",
       "\n",
       "    .dataframe tbody tr th {\n",
       "        vertical-align: top;\n",
       "    }\n",
       "\n",
       "    .dataframe thead th {\n",
       "        text-align: right;\n",
       "    }\n",
       "</style>\n",
       "<table border=\"1\" class=\"dataframe\">\n",
       "  <thead>\n",
       "    <tr style=\"text-align: right;\">\n",
       "      <th></th>\n",
       "      <th>Year</th>\n",
       "      <th>Present_Price</th>\n",
       "      <th>Kms_Driven</th>\n",
       "      <th>Fuel_Type</th>\n",
       "      <th>Seller_Type</th>\n",
       "      <th>Transmission</th>\n",
       "      <th>Owner</th>\n",
       "      <th>Selling_Price</th>\n",
       "    </tr>\n",
       "  </thead>\n",
       "  <tbody>\n",
       "    <tr>\n",
       "      <th>5</th>\n",
       "      <td>2018</td>\n",
       "      <td>9.83</td>\n",
       "      <td>2071</td>\n",
       "      <td>Diesel</td>\n",
       "      <td>Dealer</td>\n",
       "      <td>Manual</td>\n",
       "      <td>0</td>\n",
       "      <td>9.25</td>\n",
       "    </tr>\n",
       "    <tr>\n",
       "      <th>258</th>\n",
       "      <td>2015</td>\n",
       "      <td>13.60</td>\n",
       "      <td>25000</td>\n",
       "      <td>Petrol</td>\n",
       "      <td>Dealer</td>\n",
       "      <td>Manual</td>\n",
       "      <td>0</td>\n",
       "      <td>8.40</td>\n",
       "    </tr>\n",
       "    <tr>\n",
       "      <th>278</th>\n",
       "      <td>2016</td>\n",
       "      <td>8.40</td>\n",
       "      <td>4000</td>\n",
       "      <td>Petrol</td>\n",
       "      <td>Dealer</td>\n",
       "      <td>Manual</td>\n",
       "      <td>0</td>\n",
       "      <td>6.00</td>\n",
       "    </tr>\n",
       "    <tr>\n",
       "      <th>260</th>\n",
       "      <td>2016</td>\n",
       "      <td>13.60</td>\n",
       "      <td>29223</td>\n",
       "      <td>Petrol</td>\n",
       "      <td>Dealer</td>\n",
       "      <td>Manual</td>\n",
       "      <td>0</td>\n",
       "      <td>9.15</td>\n",
       "    </tr>\n",
       "    <tr>\n",
       "      <th>7</th>\n",
       "      <td>2015</td>\n",
       "      <td>8.61</td>\n",
       "      <td>33429</td>\n",
       "      <td>Diesel</td>\n",
       "      <td>Dealer</td>\n",
       "      <td>Manual</td>\n",
       "      <td>0</td>\n",
       "      <td>6.50</td>\n",
       "    </tr>\n",
       "    <tr>\n",
       "      <th>...</th>\n",
       "      <td>...</td>\n",
       "      <td>...</td>\n",
       "      <td>...</td>\n",
       "      <td>...</td>\n",
       "      <td>...</td>\n",
       "      <td>...</td>\n",
       "      <td>...</td>\n",
       "      <td>...</td>\n",
       "    </tr>\n",
       "    <tr>\n",
       "      <th>106</th>\n",
       "      <td>2014</td>\n",
       "      <td>3.45</td>\n",
       "      <td>16500</td>\n",
       "      <td>Petrol</td>\n",
       "      <td>Individual</td>\n",
       "      <td>Manual</td>\n",
       "      <td>1</td>\n",
       "      <td>1.35</td>\n",
       "    </tr>\n",
       "    <tr>\n",
       "      <th>83</th>\n",
       "      <td>2015</td>\n",
       "      <td>13.46</td>\n",
       "      <td>38000</td>\n",
       "      <td>Diesel</td>\n",
       "      <td>Dealer</td>\n",
       "      <td>Manual</td>\n",
       "      <td>0</td>\n",
       "      <td>12.50</td>\n",
       "    </tr>\n",
       "    <tr>\n",
       "      <th>17</th>\n",
       "      <td>2016</td>\n",
       "      <td>10.79</td>\n",
       "      <td>43000</td>\n",
       "      <td>Diesel</td>\n",
       "      <td>Dealer</td>\n",
       "      <td>Manual</td>\n",
       "      <td>0</td>\n",
       "      <td>7.75</td>\n",
       "    </tr>\n",
       "    <tr>\n",
       "      <th>230</th>\n",
       "      <td>2013</td>\n",
       "      <td>9.40</td>\n",
       "      <td>45000</td>\n",
       "      <td>Diesel</td>\n",
       "      <td>Dealer</td>\n",
       "      <td>Manual</td>\n",
       "      <td>0</td>\n",
       "      <td>6.15</td>\n",
       "    </tr>\n",
       "    <tr>\n",
       "      <th>98</th>\n",
       "      <td>2013</td>\n",
       "      <td>18.61</td>\n",
       "      <td>45000</td>\n",
       "      <td>Petrol</td>\n",
       "      <td>Dealer</td>\n",
       "      <td>Manual</td>\n",
       "      <td>0</td>\n",
       "      <td>7.05</td>\n",
       "    </tr>\n",
       "  </tbody>\n",
       "</table>\n",
       "<p>225 rows × 8 columns</p>\n",
       "</div>"
      ],
      "text/plain": [
       "     Year  Present_Price  Kms_Driven Fuel_Type Seller_Type Transmission  \\\n",
       "5    2018           9.83        2071    Diesel      Dealer       Manual   \n",
       "258  2015          13.60       25000    Petrol      Dealer       Manual   \n",
       "278  2016           8.40        4000    Petrol      Dealer       Manual   \n",
       "260  2016          13.60       29223    Petrol      Dealer       Manual   \n",
       "7    2015           8.61       33429    Diesel      Dealer       Manual   \n",
       "..    ...            ...         ...       ...         ...          ...   \n",
       "106  2014           3.45       16500    Petrol  Individual       Manual   \n",
       "83   2015          13.46       38000    Diesel      Dealer       Manual   \n",
       "17   2016          10.79       43000    Diesel      Dealer       Manual   \n",
       "230  2013           9.40       45000    Diesel      Dealer       Manual   \n",
       "98   2013          18.61       45000    Petrol      Dealer       Manual   \n",
       "\n",
       "     Owner  Selling_Price  \n",
       "5        0           9.25  \n",
       "258      0           8.40  \n",
       "278      0           6.00  \n",
       "260      0           9.15  \n",
       "7        0           6.50  \n",
       "..     ...            ...  \n",
       "106      1           1.35  \n",
       "83       0          12.50  \n",
       "17       0           7.75  \n",
       "230      0           6.15  \n",
       "98       0           7.05  \n",
       "\n",
       "[225 rows x 8 columns]"
      ]
     },
     "execution_count": 87,
     "metadata": {},
     "output_type": "execute_result"
    }
   ],
   "source": [
    "#Menggabungkan x train dan y train untuk keperluan EDA\n",
    "train_set = pd.merge(X_train, y_train, left_index=True, right_index=True)\n",
    "#Sanity Check Data\n",
    "train_set"
   ]
  },
  {
   "cell_type": "markdown",
   "id": "85a359e7",
   "metadata": {},
   "source": [
    "## Final Result - Data Preparation"
   ]
  },
  {
   "cell_type": "markdown",
   "id": "5133f789",
   "metadata": {},
   "source": [
    "Ekspor Hasil data preparation dengan file pickle"
   ]
  },
  {
   "cell_type": "code",
   "execution_count": 88,
   "id": "c261c35b-dfc3-4828-b697-850ede6ba91c",
   "metadata": {},
   "outputs": [],
   "source": [
    "util.pickle_dump(X_train, config_data[\"train_set_path\"][0])\n",
    "util.pickle_dump(y_train, config_data[\"train_set_path\"][1])\n",
    "\n",
    "util.pickle_dump(X_valid, config_data[\"valid_set_path\"][0])\n",
    "util.pickle_dump(y_valid, config_data[\"valid_set_path\"][1])\n",
    "\n",
    "util.pickle_dump(X_test, config_data[\"test_set_path\"][0])\n",
    "util.pickle_dump(y_test, config_data[\"test_set_path\"][1])"
   ]
  },
  {
   "cell_type": "code",
   "execution_count": 25,
   "id": "e16281b3",
   "metadata": {},
   "outputs": [
    {
     "data": {
      "text/plain": [
       "['C:\\\\Users\\\\hp\\\\Portofolio Data Science\\\\4 - Vehicle Price Prediction\\\\dataset\\\\2 - processed\\\\train_set.pkl']"
      ]
     },
     "execution_count": 25,
     "metadata": {},
     "output_type": "execute_result"
    }
   ],
   "source": [
    "joblib.dump(X_train, \"C:\\\\Users\\\\hp\\\\Portofolio Data Science\\\\4 - Vehicle Price Prediction\\\\dataset\\\\2 - processed\\\\X_train.pkl\")\n",
    "joblib.dump(y_train, \"C:\\\\Users\\\\hp\\\\Portofolio Data Science\\\\4 - Vehicle Price Prediction\\\\dataset\\\\2 - processed\\\\y_train.pkl\")\n",
    "joblib.dump(X_valid, \"C:\\\\Users\\\\hp\\\\Portofolio Data Science\\\\4 - Vehicle Price Prediction\\\\dataset\\\\2 - processed\\\\X_valid.pkl\")\n",
    "joblib.dump(y_valid, \"C:\\\\Users\\\\hp\\\\Portofolio Data Science\\\\4 - Vehicle Price Prediction\\\\dataset\\\\2 - processed\\\\y_valid.pkl\")\n",
    "joblib.dump(X_test, \"C:\\\\Users\\\\hp\\\\Portofolio Data Science\\\\4 - Vehicle Price Prediction\\\\dataset\\\\2 - processed\\\\X_test.pkl\")\n",
    "joblib.dump(y_test, \"C:\\\\Users\\\\hp\\\\Portofolio Data Science\\\\4 - Vehicle Price Prediction\\\\dataset\\\\2 - processed\\\\y_test.pkl\")\n",
    "joblib.dump(train_set, \"C:\\\\Users\\\\hp\\\\Portofolio Data Science\\\\4 - Vehicle Price Prediction\\\\dataset\\\\2 - processed\\\\train_set.pkl\") # Untuk Keperluan EDA"
   ]
  },
  {
   "cell_type": "code",
   "execution_count": null,
   "id": "88024308-e1c3-4971-a98e-9da8f0a706af",
   "metadata": {},
   "outputs": [],
   "source": []
  }
 ],
 "metadata": {
  "kernelspec": {
   "display_name": "Python 3 (ipykernel)",
   "language": "python",
   "name": "python3"
  },
  "language_info": {
   "codemirror_mode": {
    "name": "ipython",
    "version": 3
   },
   "file_extension": ".py",
   "mimetype": "text/x-python",
   "name": "python",
   "nbconvert_exporter": "python",
   "pygments_lexer": "ipython3",
   "version": "3.10.9"
  }
 },
 "nbformat": 4,
 "nbformat_minor": 5
}
