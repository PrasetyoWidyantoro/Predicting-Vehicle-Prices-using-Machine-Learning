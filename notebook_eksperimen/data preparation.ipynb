{
 "cells": [
  {
   "cell_type": "markdown",
   "id": "f1f836f4",
   "metadata": {},
   "source": [
    "# Data Preparation"
   ]
  },
  {
   "cell_type": "markdown",
   "id": "90d86dfe",
   "metadata": {},
   "source": [
    "\"Predicting Vehicle Prices\" merupakan sebuah perangkat analisis data yang bertujuan untuk memprediksi harga kendaraan berdasarkan profil kendaraan yang telah tersedia.\n",
    "\n",
    "Kumpulan data ini berisi rincian kendaraan seperti merek, tahun produksi, jarak tempuh, jenis bahan bakar, tipe seller, transmisi, jumlah kepemilikan mobil sebelumnya. Variabel target dalam kasus ini adalah harga kendaraan, yang merupakan variabel numerik yang mencerminkan nilai kendaraan tersebut.\n",
    "\n",
    "Variabel-variabel fitur ini akan diproses dan digunakan untuk membangun model machine learning regresi. Model ini akan digunakan untuk memprediksi harga kendaraan berdasarkan karakteristik yang dimiliki oleh setiap kendaraan dalam dataset.\n",
    "\n",
    "Dalam hal ini, kita akan berfokus pada pengukuran metrik bisnis yang sesuai dengan permasalahan ini. Salah satu metrik yang relevan adalah \"Root Mean Squared Error (RMSE)\" yang mengukur seberapa akurat model dalam memprediksi harga kendaraan. Selain itu, kita juga dapat menggunakan metrik bisnis lain seperti \"Mean Absolute Error (MAE)\" untuk memberikan gambaran yang lebih lengkap tentang seberapa baik model ini dalam memprediksi harga kendaraan.\n",
    "\n",
    "Dengan menggunakan metrik bisnis ini, kita dapat mengukur seberapa baik model ini dalam melakukan prediksi harga kendaraan, yang dapat sangat bermanfaat dalam industri penjualan kendaraan seperti otomotif. Semakin rendah nilai RMSE atau MAE, semakin baik model ini dalam memprediksi harga kendaraan, yang dapat membantu perusahaan atau individu yang terlibat dalam penjualan kendaraan untuk membuat keputusan yang lebih baik."
   ]
  },
  {
   "cell_type": "markdown",
   "id": "0077f0a3",
   "metadata": {},
   "source": [
    "# Importasi Library"
   ]
  },
  {
   "cell_type": "markdown",
   "id": "4ebe4d88",
   "metadata": {},
   "source": [
    "Melakukan importasi library yang dibutuhkan saat proses data preparation"
   ]
  },
  {
   "cell_type": "code",
   "execution_count": 2,
   "id": "9c8ffb83-5d33-4b40-8da7-c75c08fcddca",
   "metadata": {},
   "outputs": [
    {
     "data": {
      "text/plain": [
       "'C:\\\\Users\\\\hp\\\\Portofolio Data Science\\\\4 - Vehicle Price Prediction\\\\notebook_eksperimen\\\\1 - preparation'"
      ]
     },
     "execution_count": 2,
     "metadata": {},
     "output_type": "execute_result"
    }
   ],
   "source": [
    "os.getcwd()"
   ]
  },
  {
   "cell_type": "code",
   "execution_count": 1,
   "id": "7a22822e",
   "metadata": {},
   "outputs": [],
   "source": [
    "#Import library untuk data preparation dan visualization\n",
    "import numpy as np\n",
    "import pandas as pd\n",
    "import matplotlib.pyplot as plt\n",
    "import seaborn as sns\n",
    "\n",
    "# import warnings for ignore the warnings\n",
    "import warnings \n",
    "warnings.filterwarnings(\"ignore\")\n",
    "\n",
    "# import pickle and json file for columns and model file\n",
    "import pickle\n",
    "import json\n",
    "import joblib\n",
    "import os\n",
    "\n",
    "# Import train test split untuk splitting data\n",
    "from sklearn.model_selection import train_test_split\n",
    "#import util as util"
   ]
  },
  {
   "cell_type": "code",
   "execution_count": 3,
   "id": "6ce8ea28-ce1e-4120-bec3-49b332086b3b",
   "metadata": {},
   "outputs": [],
   "source": [
    "params_dir = \"config/config.yaml\""
   ]
  },
  {
   "cell_type": "code",
   "execution_count": 4,
   "id": "deed36ff-5f5c-407c-80cb-83f0e94d5756",
   "metadata": {},
   "outputs": [],
   "source": [
    "def load_params(param_dir):\n",
    "    with open(param_dir, 'r') as file:\n",
    "        params = yaml.safe_load(file)\n",
    "        \n",
    "    return params"
   ]
  },
  {
   "cell_type": "code",
   "execution_count": 5,
   "id": "ba4a1241-c1b7-4d5a-86f8-494dfc64f7ea",
   "metadata": {},
   "outputs": [],
   "source": [
    "#params = load_params(params_dir)"
   ]
  },
  {
   "cell_type": "markdown",
   "id": "30d8fade",
   "metadata": {},
   "source": [
    "# Read Data - Data Collection"
   ]
  },
  {
   "cell_type": "markdown",
   "id": "a947cd08",
   "metadata": {},
   "source": [
    "Predicting Vehicle Prices saat ini menggunakan data yang disadur dari kaggle dengan laman :\n",
    " * https://www.kaggle.com/datasets/nehalbirla/vehicle-dataset-from-cardekho?select=CAR+DETAILS+FROM+CAR+DEKHO.csvChurn "
   ]
  },
  {
   "cell_type": "code",
   "execution_count": 6,
   "id": "bae6bbdc",
   "metadata": {},
   "outputs": [
    {
     "data": {
      "text/html": [
       "<div>\n",
       "<style scoped>\n",
       "    .dataframe tbody tr th:only-of-type {\n",
       "        vertical-align: middle;\n",
       "    }\n",
       "\n",
       "    .dataframe tbody tr th {\n",
       "        vertical-align: top;\n",
       "    }\n",
       "\n",
       "    .dataframe thead th {\n",
       "        text-align: right;\n",
       "    }\n",
       "</style>\n",
       "<table border=\"1\" class=\"dataframe\">\n",
       "  <thead>\n",
       "    <tr style=\"text-align: right;\">\n",
       "      <th></th>\n",
       "      <th>name</th>\n",
       "      <th>year</th>\n",
       "      <th>selling_price</th>\n",
       "      <th>km_driven</th>\n",
       "      <th>fuel</th>\n",
       "      <th>seller_type</th>\n",
       "      <th>transmission</th>\n",
       "      <th>owner</th>\n",
       "    </tr>\n",
       "  </thead>\n",
       "  <tbody>\n",
       "    <tr>\n",
       "      <th>0</th>\n",
       "      <td>Maruti 800 AC</td>\n",
       "      <td>2007</td>\n",
       "      <td>60000</td>\n",
       "      <td>70000</td>\n",
       "      <td>Petrol</td>\n",
       "      <td>Individual</td>\n",
       "      <td>Manual</td>\n",
       "      <td>First Owner</td>\n",
       "    </tr>\n",
       "    <tr>\n",
       "      <th>1</th>\n",
       "      <td>Maruti Wagon R LXI Minor</td>\n",
       "      <td>2007</td>\n",
       "      <td>135000</td>\n",
       "      <td>50000</td>\n",
       "      <td>Petrol</td>\n",
       "      <td>Individual</td>\n",
       "      <td>Manual</td>\n",
       "      <td>First Owner</td>\n",
       "    </tr>\n",
       "    <tr>\n",
       "      <th>2</th>\n",
       "      <td>Hyundai Verna 1.6 SX</td>\n",
       "      <td>2012</td>\n",
       "      <td>600000</td>\n",
       "      <td>100000</td>\n",
       "      <td>Diesel</td>\n",
       "      <td>Individual</td>\n",
       "      <td>Manual</td>\n",
       "      <td>First Owner</td>\n",
       "    </tr>\n",
       "    <tr>\n",
       "      <th>3</th>\n",
       "      <td>Datsun RediGO T Option</td>\n",
       "      <td>2017</td>\n",
       "      <td>250000</td>\n",
       "      <td>46000</td>\n",
       "      <td>Petrol</td>\n",
       "      <td>Individual</td>\n",
       "      <td>Manual</td>\n",
       "      <td>First Owner</td>\n",
       "    </tr>\n",
       "    <tr>\n",
       "      <th>4</th>\n",
       "      <td>Honda Amaze VX i-DTEC</td>\n",
       "      <td>2014</td>\n",
       "      <td>450000</td>\n",
       "      <td>141000</td>\n",
       "      <td>Diesel</td>\n",
       "      <td>Individual</td>\n",
       "      <td>Manual</td>\n",
       "      <td>Second Owner</td>\n",
       "    </tr>\n",
       "  </tbody>\n",
       "</table>\n",
       "</div>"
      ],
      "text/plain": [
       "                       name  year  selling_price  km_driven    fuel  \\\n",
       "0             Maruti 800 AC  2007          60000      70000  Petrol   \n",
       "1  Maruti Wagon R LXI Minor  2007         135000      50000  Petrol   \n",
       "2      Hyundai Verna 1.6 SX  2012         600000     100000  Diesel   \n",
       "3    Datsun RediGO T Option  2017         250000      46000  Petrol   \n",
       "4     Honda Amaze VX i-DTEC  2014         450000     141000  Diesel   \n",
       "\n",
       "  seller_type transmission         owner  \n",
       "0  Individual       Manual   First Owner  \n",
       "1  Individual       Manual   First Owner  \n",
       "2  Individual       Manual   First Owner  \n",
       "3  Individual       Manual   First Owner  \n",
       "4  Individual       Manual  Second Owner  "
      ]
     },
     "execution_count": 6,
     "metadata": {},
     "output_type": "execute_result"
    }
   ],
   "source": [
    "#Read Vehicle Prices dengan pandas\n",
    "vahicles_data = pd.read_csv(\"C:\\\\Users\\\\hp\\\\Portofolio Data Science\\\\4 - Vehicle Price Prediction\\\\dataset\\\\1 - raw data\\\\car_dataset.csv\")\n",
    "vahicles_data.head()"
   ]
  },
  {
   "cell_type": "code",
   "execution_count": 7,
   "id": "fd0e8d01-b498-4ce0-8349-45f9f6eaacd5",
   "metadata": {},
   "outputs": [
    {
     "name": "stdout",
     "output_type": "stream",
     "text": [
      "<class 'pandas.core.frame.DataFrame'>\n",
      "RangeIndex: 4340 entries, 0 to 4339\n",
      "Data columns (total 8 columns):\n",
      " #   Column         Non-Null Count  Dtype \n",
      "---  ------         --------------  ----- \n",
      " 0   name           4340 non-null   object\n",
      " 1   year           4340 non-null   int64 \n",
      " 2   selling_price  4340 non-null   int64 \n",
      " 3   km_driven      4340 non-null   int64 \n",
      " 4   fuel           4340 non-null   object\n",
      " 5   seller_type    4340 non-null   object\n",
      " 6   transmission   4340 non-null   object\n",
      " 7   owner          4340 non-null   object\n",
      "dtypes: int64(3), object(5)\n",
      "memory usage: 271.4+ KB\n"
     ]
    }
   ],
   "source": [
    "vahicles_data.info()"
   ]
  },
  {
   "cell_type": "code",
   "execution_count": 8,
   "id": "f951e30a-3147-4ebe-9984-2dd203645f5b",
   "metadata": {},
   "outputs": [
    {
     "name": "stdout",
     "output_type": "stream",
     "text": [
      "Unique values for column name:\n",
      "['Maruti 800 AC' 'Maruti Wagon R LXI Minor' 'Hyundai Verna 1.6 SX' ...\n",
      " 'Mahindra Verito 1.5 D6 BSIII'\n",
      " 'Toyota Innova 2.5 VX (Diesel) 8 Seater BS IV'\n",
      " 'Hyundai i20 Magna 1.4 CRDi']\n",
      "\n",
      "\n",
      "Unique values for column fuel:\n",
      "['Petrol' 'Diesel' 'CNG' 'LPG' 'Electric']\n",
      "\n",
      "\n",
      "Unique values for column seller_type:\n",
      "['Individual' 'Dealer' 'Trustmark Dealer']\n",
      "\n",
      "\n",
      "Unique values for column transmission:\n",
      "['Manual' 'Automatic']\n",
      "\n",
      "\n",
      "Unique values for column owner:\n",
      "['First Owner' 'Second Owner' 'Fourth & Above Owner' 'Third Owner'\n",
      " 'Test Drive Car']\n",
      "\n",
      "\n"
     ]
    }
   ],
   "source": [
    "# melihat unique value pada kolom kategori\n",
    "\n",
    "# Menggunakan loop untuk melihat unique value pada masing-masing kolom\n",
    "for column in vahicles_data.columns:\n",
    "    if vahicles_data[column].dtype == 'object':\n",
    "        unique_values = vahicles_data[column].unique()\n",
    "        print(f\"Unique values for column {column}:\")\n",
    "        print(unique_values)\n",
    "        print('\\n')"
   ]
  },
  {
   "cell_type": "code",
   "execution_count": 9,
   "id": "2a61aaa8",
   "metadata": {},
   "outputs": [
    {
     "data": {
      "text/plain": [
       "1491"
      ]
     },
     "execution_count": 9,
     "metadata": {},
     "output_type": "execute_result"
    }
   ],
   "source": [
    "vahicles_data[\"name\"].nunique()"
   ]
  },
  {
   "cell_type": "markdown",
   "id": "4cdf2a3b-e9d7-4b70-be5a-ee64645cbf27",
   "metadata": {},
   "source": [
    "Menghapus kolom yang tidak diperlukan dalam proses analisa"
   ]
  },
  {
   "cell_type": "code",
   "execution_count": 10,
   "id": "8a644661-416f-4343-bb83-a47d022143dd",
   "metadata": {},
   "outputs": [],
   "source": [
    "vahicles_data = vahicles_data.drop('name', axis=1)  # axis=1 berarti menghapus kolom, axis=0 akan menghapus baris"
   ]
  },
  {
   "cell_type": "markdown",
   "id": "963590d0",
   "metadata": {},
   "source": [
    "Sanity check"
   ]
  },
  {
   "cell_type": "code",
   "execution_count": 11,
   "id": "e53cb5df-893b-4bf5-8043-db194cc07d10",
   "metadata": {},
   "outputs": [
    {
     "data": {
      "text/html": [
       "<div>\n",
       "<style scoped>\n",
       "    .dataframe tbody tr th:only-of-type {\n",
       "        vertical-align: middle;\n",
       "    }\n",
       "\n",
       "    .dataframe tbody tr th {\n",
       "        vertical-align: top;\n",
       "    }\n",
       "\n",
       "    .dataframe thead th {\n",
       "        text-align: right;\n",
       "    }\n",
       "</style>\n",
       "<table border=\"1\" class=\"dataframe\">\n",
       "  <thead>\n",
       "    <tr style=\"text-align: right;\">\n",
       "      <th></th>\n",
       "      <th>year</th>\n",
       "      <th>selling_price</th>\n",
       "      <th>km_driven</th>\n",
       "      <th>fuel</th>\n",
       "      <th>seller_type</th>\n",
       "      <th>transmission</th>\n",
       "      <th>owner</th>\n",
       "    </tr>\n",
       "  </thead>\n",
       "  <tbody>\n",
       "    <tr>\n",
       "      <th>0</th>\n",
       "      <td>2007</td>\n",
       "      <td>60000</td>\n",
       "      <td>70000</td>\n",
       "      <td>Petrol</td>\n",
       "      <td>Individual</td>\n",
       "      <td>Manual</td>\n",
       "      <td>First Owner</td>\n",
       "    </tr>\n",
       "    <tr>\n",
       "      <th>1</th>\n",
       "      <td>2007</td>\n",
       "      <td>135000</td>\n",
       "      <td>50000</td>\n",
       "      <td>Petrol</td>\n",
       "      <td>Individual</td>\n",
       "      <td>Manual</td>\n",
       "      <td>First Owner</td>\n",
       "    </tr>\n",
       "    <tr>\n",
       "      <th>2</th>\n",
       "      <td>2012</td>\n",
       "      <td>600000</td>\n",
       "      <td>100000</td>\n",
       "      <td>Diesel</td>\n",
       "      <td>Individual</td>\n",
       "      <td>Manual</td>\n",
       "      <td>First Owner</td>\n",
       "    </tr>\n",
       "    <tr>\n",
       "      <th>3</th>\n",
       "      <td>2017</td>\n",
       "      <td>250000</td>\n",
       "      <td>46000</td>\n",
       "      <td>Petrol</td>\n",
       "      <td>Individual</td>\n",
       "      <td>Manual</td>\n",
       "      <td>First Owner</td>\n",
       "    </tr>\n",
       "    <tr>\n",
       "      <th>4</th>\n",
       "      <td>2014</td>\n",
       "      <td>450000</td>\n",
       "      <td>141000</td>\n",
       "      <td>Diesel</td>\n",
       "      <td>Individual</td>\n",
       "      <td>Manual</td>\n",
       "      <td>Second Owner</td>\n",
       "    </tr>\n",
       "    <tr>\n",
       "      <th>...</th>\n",
       "      <td>...</td>\n",
       "      <td>...</td>\n",
       "      <td>...</td>\n",
       "      <td>...</td>\n",
       "      <td>...</td>\n",
       "      <td>...</td>\n",
       "      <td>...</td>\n",
       "    </tr>\n",
       "    <tr>\n",
       "      <th>4335</th>\n",
       "      <td>2014</td>\n",
       "      <td>409999</td>\n",
       "      <td>80000</td>\n",
       "      <td>Diesel</td>\n",
       "      <td>Individual</td>\n",
       "      <td>Manual</td>\n",
       "      <td>Second Owner</td>\n",
       "    </tr>\n",
       "    <tr>\n",
       "      <th>4336</th>\n",
       "      <td>2014</td>\n",
       "      <td>409999</td>\n",
       "      <td>80000</td>\n",
       "      <td>Diesel</td>\n",
       "      <td>Individual</td>\n",
       "      <td>Manual</td>\n",
       "      <td>Second Owner</td>\n",
       "    </tr>\n",
       "    <tr>\n",
       "      <th>4337</th>\n",
       "      <td>2009</td>\n",
       "      <td>110000</td>\n",
       "      <td>83000</td>\n",
       "      <td>Petrol</td>\n",
       "      <td>Individual</td>\n",
       "      <td>Manual</td>\n",
       "      <td>Second Owner</td>\n",
       "    </tr>\n",
       "    <tr>\n",
       "      <th>4338</th>\n",
       "      <td>2016</td>\n",
       "      <td>865000</td>\n",
       "      <td>90000</td>\n",
       "      <td>Diesel</td>\n",
       "      <td>Individual</td>\n",
       "      <td>Manual</td>\n",
       "      <td>First Owner</td>\n",
       "    </tr>\n",
       "    <tr>\n",
       "      <th>4339</th>\n",
       "      <td>2016</td>\n",
       "      <td>225000</td>\n",
       "      <td>40000</td>\n",
       "      <td>Petrol</td>\n",
       "      <td>Individual</td>\n",
       "      <td>Manual</td>\n",
       "      <td>First Owner</td>\n",
       "    </tr>\n",
       "  </tbody>\n",
       "</table>\n",
       "<p>4340 rows × 7 columns</p>\n",
       "</div>"
      ],
      "text/plain": [
       "      year  selling_price  km_driven    fuel seller_type transmission  \\\n",
       "0     2007          60000      70000  Petrol  Individual       Manual   \n",
       "1     2007         135000      50000  Petrol  Individual       Manual   \n",
       "2     2012         600000     100000  Diesel  Individual       Manual   \n",
       "3     2017         250000      46000  Petrol  Individual       Manual   \n",
       "4     2014         450000     141000  Diesel  Individual       Manual   \n",
       "...    ...            ...        ...     ...         ...          ...   \n",
       "4335  2014         409999      80000  Diesel  Individual       Manual   \n",
       "4336  2014         409999      80000  Diesel  Individual       Manual   \n",
       "4337  2009         110000      83000  Petrol  Individual       Manual   \n",
       "4338  2016         865000      90000  Diesel  Individual       Manual   \n",
       "4339  2016         225000      40000  Petrol  Individual       Manual   \n",
       "\n",
       "             owner  \n",
       "0      First Owner  \n",
       "1      First Owner  \n",
       "2      First Owner  \n",
       "3      First Owner  \n",
       "4     Second Owner  \n",
       "...            ...  \n",
       "4335  Second Owner  \n",
       "4336  Second Owner  \n",
       "4337  Second Owner  \n",
       "4338   First Owner  \n",
       "4339   First Owner  \n",
       "\n",
       "[4340 rows x 7 columns]"
      ]
     },
     "execution_count": 11,
     "metadata": {},
     "output_type": "execute_result"
    }
   ],
   "source": [
    "vahicles_data"
   ]
  },
  {
   "cell_type": "markdown",
   "id": "2854cf1d",
   "metadata": {},
   "source": [
    "# Data Definition"
   ]
  },
  {
   "cell_type": "markdown",
   "id": "cad43e68",
   "metadata": {},
   "source": [
    "Data yang digunakan merupakan data yang menggambarkan karakteristik vehicle berdasarkan harga jualnya. adapun fitur karakteristik vehicle yang digunakan antara lain\n",
    "\n",
    "Data berisi 4340 baris dan 7 kolom yaitu :\n",
    "\n",
    "* year : Tahun saat mobil tersebut dibeli\n",
    "* selling_price : Harga saat mobil tersebut dijual\n",
    "* km_driven : Jarak tempuh yang sudah dilalui mobil tersebut\n",
    "* fuel : Jenis bahan bakar mobil \n",
    "* seller_type : Tipe Penjual, perorangan atau dealer\n",
    "* transmission : Jenis Transmisi oper gigi mobil, manual atau otomatis\n",
    "* owner : Jumlah pemilik mobil sebelumnya."
   ]
  },
  {
   "cell_type": "raw",
   "id": "f0d9b3ee",
   "metadata": {},
   "source": [
    "year       :\n",
    "    [int64]\n",
    "    [1992 - 2020]\n",
    "    Tahun saat mobil tersebut dibeli\n",
    "\n",
    "selling_price          :\n",
    "    [int64]\n",
    "    [20000 - 8900000]\n",
    "    Harga saat mobil tersebut dijual\n",
    "\n",
    "km_driven            :\n",
    "    [int64]\n",
    "    [1 - 806599]\n",
    "    Jarak tempuh yang sudah dilalui mobil tersebut\n",
    "    \n",
    "fuel               :\n",
    "    [object]\n",
    "    ['Petrol' 'Diesel' 'CNG' 'LPG' 'Electric']\n",
    "    Jenis bahan bakar mobil\n",
    "\n",
    "seller_type         :\n",
    "    [object]\n",
    "    ['Individual' 'Dealer' 'Trustmark Dealer']\n",
    "    Tipe Penjual, perorangan atau dealer\n",
    "\n",
    "transmission            :\n",
    "    [object]\n",
    "    ['Manual' 'Automatic']\n",
    "    Jenis Transmisi oper gigi mobil, manual atau otomatis\n",
    "\n",
    "owner      :\n",
    "    [object]\n",
    "    ['First Owner' 'Second Owner' 'Fourth & Above Owner' 'Third Owner' 'Test Drive Car']\n",
    "    Jumlah pemilik mobil sebelumnya."
   ]
  },
  {
   "cell_type": "markdown",
   "id": "0fbc79a1",
   "metadata": {},
   "source": [
    "# Data Validation"
   ]
  },
  {
   "cell_type": "markdown",
   "id": "0c38c247",
   "metadata": {},
   "source": [
    "### Data Type"
   ]
  },
  {
   "cell_type": "markdown",
   "id": "a538f159",
   "metadata": {},
   "source": [
    "Mengecek tipe data apakah sudah sesuai dengan fitur dalam proses analisa"
   ]
  },
  {
   "cell_type": "code",
   "execution_count": 12,
   "id": "61359e06",
   "metadata": {},
   "outputs": [
    {
     "name": "stdout",
     "output_type": "stream",
     "text": [
      "<class 'pandas.core.frame.DataFrame'>\n",
      "RangeIndex: 4340 entries, 0 to 4339\n",
      "Data columns (total 7 columns):\n",
      " #   Column         Non-Null Count  Dtype \n",
      "---  ------         --------------  ----- \n",
      " 0   year           4340 non-null   int64 \n",
      " 1   selling_price  4340 non-null   int64 \n",
      " 2   km_driven      4340 non-null   int64 \n",
      " 3   fuel           4340 non-null   object\n",
      " 4   seller_type    4340 non-null   object\n",
      " 5   transmission   4340 non-null   object\n",
      " 6   owner          4340 non-null   object\n",
      "dtypes: int64(3), object(4)\n",
      "memory usage: 237.5+ KB\n"
     ]
    }
   ],
   "source": [
    "# Cek tipe data dengan menggunakan info()\n",
    "vahicles_data.info()"
   ]
  },
  {
   "cell_type": "markdown",
   "id": "9cd17979",
   "metadata": {},
   "source": [
    "### Check Nilai Null"
   ]
  },
  {
   "cell_type": "markdown",
   "id": "594a961a",
   "metadata": {},
   "source": [
    "Mengecek apakah data terdapat nilai null pada setiap kolom"
   ]
  },
  {
   "cell_type": "code",
   "execution_count": 13,
   "id": "b5c4f5a7",
   "metadata": {},
   "outputs": [
    {
     "data": {
      "text/plain": [
       "year             0\n",
       "selling_price    0\n",
       "km_driven        0\n",
       "fuel             0\n",
       "seller_type      0\n",
       "transmission     0\n",
       "owner            0\n",
       "dtype: int64"
      ]
     },
     "execution_count": 13,
     "metadata": {},
     "output_type": "execute_result"
    }
   ],
   "source": [
    "#Menghitung nilai null pada kolom\n",
    "vahicles_data.isnull().sum()"
   ]
  },
  {
   "cell_type": "markdown",
   "id": "abb72fac",
   "metadata": {},
   "source": [
    "### Melihat statistik deskriptif dan Range Data Numerikal"
   ]
  },
  {
   "cell_type": "markdown",
   "id": "dabce131",
   "metadata": {},
   "source": [
    "Cek statistika deskriptif"
   ]
  },
  {
   "cell_type": "code",
   "execution_count": 14,
   "id": "2d1137c7",
   "metadata": {},
   "outputs": [
    {
     "data": {
      "text/html": [
       "<div>\n",
       "<style scoped>\n",
       "    .dataframe tbody tr th:only-of-type {\n",
       "        vertical-align: middle;\n",
       "    }\n",
       "\n",
       "    .dataframe tbody tr th {\n",
       "        vertical-align: top;\n",
       "    }\n",
       "\n",
       "    .dataframe thead th {\n",
       "        text-align: right;\n",
       "    }\n",
       "</style>\n",
       "<table border=\"1\" class=\"dataframe\">\n",
       "  <thead>\n",
       "    <tr style=\"text-align: right;\">\n",
       "      <th></th>\n",
       "      <th>year</th>\n",
       "      <th>selling_price</th>\n",
       "      <th>km_driven</th>\n",
       "    </tr>\n",
       "  </thead>\n",
       "  <tbody>\n",
       "    <tr>\n",
       "      <th>count</th>\n",
       "      <td>4340.000000</td>\n",
       "      <td>4.340000e+03</td>\n",
       "      <td>4340.000000</td>\n",
       "    </tr>\n",
       "    <tr>\n",
       "      <th>mean</th>\n",
       "      <td>2013.090783</td>\n",
       "      <td>5.041273e+05</td>\n",
       "      <td>66215.777419</td>\n",
       "    </tr>\n",
       "    <tr>\n",
       "      <th>std</th>\n",
       "      <td>4.215344</td>\n",
       "      <td>5.785487e+05</td>\n",
       "      <td>46644.102194</td>\n",
       "    </tr>\n",
       "    <tr>\n",
       "      <th>min</th>\n",
       "      <td>1992.000000</td>\n",
       "      <td>2.000000e+04</td>\n",
       "      <td>1.000000</td>\n",
       "    </tr>\n",
       "    <tr>\n",
       "      <th>25%</th>\n",
       "      <td>2011.000000</td>\n",
       "      <td>2.087498e+05</td>\n",
       "      <td>35000.000000</td>\n",
       "    </tr>\n",
       "    <tr>\n",
       "      <th>50%</th>\n",
       "      <td>2014.000000</td>\n",
       "      <td>3.500000e+05</td>\n",
       "      <td>60000.000000</td>\n",
       "    </tr>\n",
       "    <tr>\n",
       "      <th>75%</th>\n",
       "      <td>2016.000000</td>\n",
       "      <td>6.000000e+05</td>\n",
       "      <td>90000.000000</td>\n",
       "    </tr>\n",
       "    <tr>\n",
       "      <th>max</th>\n",
       "      <td>2020.000000</td>\n",
       "      <td>8.900000e+06</td>\n",
       "      <td>806599.000000</td>\n",
       "    </tr>\n",
       "  </tbody>\n",
       "</table>\n",
       "</div>"
      ],
      "text/plain": [
       "              year  selling_price      km_driven\n",
       "count  4340.000000   4.340000e+03    4340.000000\n",
       "mean   2013.090783   5.041273e+05   66215.777419\n",
       "std       4.215344   5.785487e+05   46644.102194\n",
       "min    1992.000000   2.000000e+04       1.000000\n",
       "25%    2011.000000   2.087498e+05   35000.000000\n",
       "50%    2014.000000   3.500000e+05   60000.000000\n",
       "75%    2016.000000   6.000000e+05   90000.000000\n",
       "max    2020.000000   8.900000e+06  806599.000000"
      ]
     },
     "execution_count": 14,
     "metadata": {},
     "output_type": "execute_result"
    }
   ],
   "source": [
    "#Melihat statistika deskriptif dengan describe()\n",
    "vahicles_data.describe()"
   ]
  },
  {
   "cell_type": "markdown",
   "id": "5b81f517",
   "metadata": {},
   "source": [
    "### Melihat Dimensi Data"
   ]
  },
  {
   "cell_type": "code",
   "execution_count": 15,
   "id": "0b66b235",
   "metadata": {},
   "outputs": [
    {
     "data": {
      "text/plain": [
       "(4340, 7)"
      ]
     },
     "execution_count": 15,
     "metadata": {},
     "output_type": "execute_result"
    }
   ],
   "source": [
    "vahicles_data.shape"
   ]
  },
  {
   "cell_type": "markdown",
   "id": "887a431c",
   "metadata": {},
   "source": [
    "# Data Splitting"
   ]
  },
  {
   "cell_type": "markdown",
   "id": "faa98f66",
   "metadata": {},
   "source": [
    "Melakukan spliting data untuk memisahkan set training, set validation dan set test yang terbagi atas variabel x dan y"
   ]
  },
  {
   "cell_type": "code",
   "execution_count": 16,
   "id": "6deade50",
   "metadata": {},
   "outputs": [],
   "source": [
    "# Pemisahan Variabel X dan Y\n",
    "X = vahicles_data.drop(columns = \"selling_price\")\n",
    "y = vahicles_data[\"selling_price\"]"
   ]
  },
  {
   "cell_type": "code",
   "execution_count": 17,
   "id": "a96df1d5",
   "metadata": {},
   "outputs": [],
   "source": [
    "#Split Data 80% training 20% testing\n",
    "X_train, X_test, y_train, y_test = train_test_split(X, y,\n",
    "                                                    test_size = 0.3,\n",
    "                                                    random_state = 123)"
   ]
  },
  {
   "cell_type": "code",
   "execution_count": 18,
   "id": "e68d5ec9",
   "metadata": {},
   "outputs": [],
   "source": [
    "# Split data train menjadi train dan validation set\n",
    "X_test, X_valid, y_test, y_valid = train_test_split(X_test, y_test, \n",
    "                                                    test_size=0.4, \n",
    "                                                    random_state=123)"
   ]
  },
  {
   "cell_type": "code",
   "execution_count": 19,
   "id": "0c2cd6a0",
   "metadata": {},
   "outputs": [
    {
     "data": {
      "text/html": [
       "<div>\n",
       "<style scoped>\n",
       "    .dataframe tbody tr th:only-of-type {\n",
       "        vertical-align: middle;\n",
       "    }\n",
       "\n",
       "    .dataframe tbody tr th {\n",
       "        vertical-align: top;\n",
       "    }\n",
       "\n",
       "    .dataframe thead th {\n",
       "        text-align: right;\n",
       "    }\n",
       "</style>\n",
       "<table border=\"1\" class=\"dataframe\">\n",
       "  <thead>\n",
       "    <tr style=\"text-align: right;\">\n",
       "      <th></th>\n",
       "      <th>year</th>\n",
       "      <th>km_driven</th>\n",
       "      <th>fuel</th>\n",
       "      <th>seller_type</th>\n",
       "      <th>transmission</th>\n",
       "      <th>owner</th>\n",
       "      <th>selling_price</th>\n",
       "    </tr>\n",
       "  </thead>\n",
       "  <tbody>\n",
       "    <tr>\n",
       "      <th>791</th>\n",
       "      <td>2016</td>\n",
       "      <td>12000</td>\n",
       "      <td>Petrol</td>\n",
       "      <td>Individual</td>\n",
       "      <td>Manual</td>\n",
       "      <td>First Owner</td>\n",
       "      <td>350000</td>\n",
       "    </tr>\n",
       "    <tr>\n",
       "      <th>2704</th>\n",
       "      <td>2014</td>\n",
       "      <td>50000</td>\n",
       "      <td>Diesel</td>\n",
       "      <td>Individual</td>\n",
       "      <td>Manual</td>\n",
       "      <td>First Owner</td>\n",
       "      <td>1800000</td>\n",
       "    </tr>\n",
       "    <tr>\n",
       "      <th>1266</th>\n",
       "      <td>2012</td>\n",
       "      <td>130000</td>\n",
       "      <td>Diesel</td>\n",
       "      <td>Individual</td>\n",
       "      <td>Manual</td>\n",
       "      <td>Second Owner</td>\n",
       "      <td>190000</td>\n",
       "    </tr>\n",
       "    <tr>\n",
       "      <th>239</th>\n",
       "      <td>2012</td>\n",
       "      <td>100000</td>\n",
       "      <td>Diesel</td>\n",
       "      <td>Individual</td>\n",
       "      <td>Manual</td>\n",
       "      <td>Second Owner</td>\n",
       "      <td>220000</td>\n",
       "    </tr>\n",
       "    <tr>\n",
       "      <th>2929</th>\n",
       "      <td>2002</td>\n",
       "      <td>70000</td>\n",
       "      <td>Petrol</td>\n",
       "      <td>Individual</td>\n",
       "      <td>Manual</td>\n",
       "      <td>Second Owner</td>\n",
       "      <td>80000</td>\n",
       "    </tr>\n",
       "    <tr>\n",
       "      <th>...</th>\n",
       "      <td>...</td>\n",
       "      <td>...</td>\n",
       "      <td>...</td>\n",
       "      <td>...</td>\n",
       "      <td>...</td>\n",
       "      <td>...</td>\n",
       "      <td>...</td>\n",
       "    </tr>\n",
       "    <tr>\n",
       "      <th>1593</th>\n",
       "      <td>2016</td>\n",
       "      <td>40000</td>\n",
       "      <td>Diesel</td>\n",
       "      <td>Individual</td>\n",
       "      <td>Manual</td>\n",
       "      <td>First Owner</td>\n",
       "      <td>1000000</td>\n",
       "    </tr>\n",
       "    <tr>\n",
       "      <th>4060</th>\n",
       "      <td>2014</td>\n",
       "      <td>100000</td>\n",
       "      <td>Diesel</td>\n",
       "      <td>Individual</td>\n",
       "      <td>Manual</td>\n",
       "      <td>Second Owner</td>\n",
       "      <td>600000</td>\n",
       "    </tr>\n",
       "    <tr>\n",
       "      <th>1346</th>\n",
       "      <td>2010</td>\n",
       "      <td>100000</td>\n",
       "      <td>Diesel</td>\n",
       "      <td>Individual</td>\n",
       "      <td>Manual</td>\n",
       "      <td>Second Owner</td>\n",
       "      <td>200000</td>\n",
       "    </tr>\n",
       "    <tr>\n",
       "      <th>3454</th>\n",
       "      <td>2017</td>\n",
       "      <td>110000</td>\n",
       "      <td>Diesel</td>\n",
       "      <td>Individual</td>\n",
       "      <td>Automatic</td>\n",
       "      <td>First Owner</td>\n",
       "      <td>710000</td>\n",
       "    </tr>\n",
       "    <tr>\n",
       "      <th>3582</th>\n",
       "      <td>2007</td>\n",
       "      <td>80000</td>\n",
       "      <td>Petrol</td>\n",
       "      <td>Individual</td>\n",
       "      <td>Manual</td>\n",
       "      <td>Second Owner</td>\n",
       "      <td>220000</td>\n",
       "    </tr>\n",
       "  </tbody>\n",
       "</table>\n",
       "<p>3038 rows × 7 columns</p>\n",
       "</div>"
      ],
      "text/plain": [
       "      year  km_driven    fuel seller_type transmission         owner  \\\n",
       "791   2016      12000  Petrol  Individual       Manual   First Owner   \n",
       "2704  2014      50000  Diesel  Individual       Manual   First Owner   \n",
       "1266  2012     130000  Diesel  Individual       Manual  Second Owner   \n",
       "239   2012     100000  Diesel  Individual       Manual  Second Owner   \n",
       "2929  2002      70000  Petrol  Individual       Manual  Second Owner   \n",
       "...    ...        ...     ...         ...          ...           ...   \n",
       "1593  2016      40000  Diesel  Individual       Manual   First Owner   \n",
       "4060  2014     100000  Diesel  Individual       Manual  Second Owner   \n",
       "1346  2010     100000  Diesel  Individual       Manual  Second Owner   \n",
       "3454  2017     110000  Diesel  Individual    Automatic   First Owner   \n",
       "3582  2007      80000  Petrol  Individual       Manual  Second Owner   \n",
       "\n",
       "      selling_price  \n",
       "791          350000  \n",
       "2704        1800000  \n",
       "1266         190000  \n",
       "239          220000  \n",
       "2929          80000  \n",
       "...             ...  \n",
       "1593        1000000  \n",
       "4060         600000  \n",
       "1346         200000  \n",
       "3454         710000  \n",
       "3582         220000  \n",
       "\n",
       "[3038 rows x 7 columns]"
      ]
     },
     "execution_count": 19,
     "metadata": {},
     "output_type": "execute_result"
    }
   ],
   "source": [
    "#Menggabungkan x train dan y train untuk keperluan EDA\n",
    "train_set = pd.merge(X_train, y_train, left_index=True, right_index=True)\n",
    "#Sanity Check Data\n",
    "train_set"
   ]
  },
  {
   "cell_type": "markdown",
   "id": "85a359e7",
   "metadata": {},
   "source": [
    "## Final Result - Data Preparation"
   ]
  },
  {
   "cell_type": "markdown",
   "id": "5133f789",
   "metadata": {},
   "source": [
    "Ekspor Hasil data preparation dengan file pickle"
   ]
  },
  {
   "cell_type": "code",
   "execution_count": 20,
   "id": "e16281b3",
   "metadata": {},
   "outputs": [
    {
     "data": {
      "text/plain": [
       "['C:\\\\Users\\\\hp\\\\Portofolio Data Science\\\\4 - Vehicle Price Prediction\\\\dataset\\\\2 - processed\\\\train_set.pkl']"
      ]
     },
     "execution_count": 20,
     "metadata": {},
     "output_type": "execute_result"
    }
   ],
   "source": [
    "joblib.dump(X_train, \"C:\\\\Users\\\\hp\\\\Portofolio Data Science\\\\4 - Vehicle Price Prediction\\\\dataset\\\\2 - processed\\\\X_train.pkl\")\n",
    "joblib.dump(y_train, \"C:\\\\Users\\\\hp\\\\Portofolio Data Science\\\\4 - Vehicle Price Prediction\\\\dataset\\\\2 - processed\\\\y_train.pkl\")\n",
    "joblib.dump(X_valid, \"C:\\\\Users\\\\hp\\\\Portofolio Data Science\\\\4 - Vehicle Price Prediction\\\\dataset\\\\2 - processed\\\\X_valid.pkl\")\n",
    "joblib.dump(y_valid, \"C:\\\\Users\\\\hp\\\\Portofolio Data Science\\\\4 - Vehicle Price Prediction\\\\dataset\\\\2 - processed\\\\y_valid.pkl\")\n",
    "joblib.dump(X_test, \"C:\\\\Users\\\\hp\\\\Portofolio Data Science\\\\4 - Vehicle Price Prediction\\\\dataset\\\\2 - processed\\\\X_test.pkl\")\n",
    "joblib.dump(y_test, \"C:\\\\Users\\\\hp\\\\Portofolio Data Science\\\\4 - Vehicle Price Prediction\\\\dataset\\\\2 - processed\\\\y_test.pkl\")\n",
    "joblib.dump(train_set, \"C:\\\\Users\\\\hp\\\\Portofolio Data Science\\\\4 - Vehicle Price Prediction\\\\dataset\\\\2 - processed\\\\train_set.pkl\") # Untuk Keperluan EDA"
   ]
  },
  {
   "cell_type": "code",
   "execution_count": null,
   "id": "88024308-e1c3-4971-a98e-9da8f0a706af",
   "metadata": {},
   "outputs": [],
   "source": []
  }
 ],
 "metadata": {
  "kernelspec": {
   "display_name": "Python 3 (ipykernel)",
   "language": "python",
   "name": "python3"
  },
  "language_info": {
   "codemirror_mode": {
    "name": "ipython",
    "version": 3
   },
   "file_extension": ".py",
   "mimetype": "text/x-python",
   "name": "python",
   "nbconvert_exporter": "python",
   "pygments_lexer": "ipython3",
   "version": "3.10.9"
  }
 },
 "nbformat": 4,
 "nbformat_minor": 5
}
